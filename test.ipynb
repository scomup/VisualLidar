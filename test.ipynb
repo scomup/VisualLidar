{
 "cells": [
  {
   "cell_type": "code",
   "execution_count": 52,
   "metadata": {},
   "outputs": [],
   "source": [
    "from sympy import *\n",
    "init_printing(use_latex=\"mathjax\", latex_mode=\"equation\")\n",
    "\n",
    "x = Symbol('x')\n",
    "y = Symbol('y')\n",
    "z = Symbol('z')\n",
    "a = Symbol('a')\n",
    "b = Symbol('b')\n",
    "c = Symbol('c')\n",
    "d = Symbol('d')\n",
    "e = Symbol('e')\n",
    "f = Symbol('f')\n",
    "g = Symbol('g')\n",
    "h = Symbol('h')\n",
    "i = Symbol('i')\n",
    "j = Symbol('j')\n",
    "k = Symbol('k')\n",
    "l = Symbol('l')\n",
    "\n",
    "fx = Symbol('fx')\n",
    "fy = Symbol('fy')\n",
    "cx = Symbol('cx')\n",
    "cy = Symbol('cy')\n",
    "\n",
    "F0 = cx + fx*(a*x + b*y + c*z + d)/((i*x + j*y + k*z + l))\n",
    "F1 = cy + fy*(e*x + f*y + g*z + h)/(i*x + j*y + k*z + l)\n",
    "\n"
   ]
  },
  {
   "cell_type": "code",
   "execution_count": 53,
   "metadata": {},
   "outputs": [
    {
     "data": {
      "text/latex": [
       "\\begin{equation}\\frac{fx x}{z}\\end{equation}"
      ],
      "text/plain": [
       "fx⋅x\n",
       "────\n",
       " z  "
      ]
     },
     "execution_count": 53,
     "metadata": {},
     "output_type": "execute_result"
    }
   ],
   "source": [
    "diff(F0, a).subs({a:1, b:0, c:0, d:0, e:0, f:1, g:0, h:0,i:0, j:0, k:1, l:0})"
   ]
  },
  {
   "cell_type": "code",
   "execution_count": 54,
   "metadata": {},
   "outputs": [
    {
     "data": {
      "text/latex": [
       "\\begin{equation}\\frac{fx y}{z}\\end{equation}"
      ],
      "text/plain": [
       "fx⋅y\n",
       "────\n",
       " z  "
      ]
     },
     "execution_count": 54,
     "metadata": {},
     "output_type": "execute_result"
    }
   ],
   "source": [
    "diff(F0, b).subs({a:1, b:0, c:0, d:0, e:0, f:1, g:0, h:0,i:0, j:0, k:1, l:0})"
   ]
  },
  {
   "cell_type": "code",
   "execution_count": 55,
   "metadata": {},
   "outputs": [
    {
     "data": {
      "text/latex": [
       "\\begin{equation}fx\\end{equation}"
      ],
      "text/plain": [
       "fx"
      ]
     },
     "execution_count": 55,
     "metadata": {},
     "output_type": "execute_result"
    }
   ],
   "source": [
    "diff(F0, c).subs({a:1, b:0, c:0, d:0, e:0, f:1, g:0, h:0,i:0, j:0, k:1, l:0})"
   ]
  },
  {
   "cell_type": "code",
   "execution_count": 56,
   "metadata": {},
   "outputs": [
    {
     "data": {
      "text/latex": [
       "\\begin{equation}\\frac{fx}{z}\\end{equation}"
      ],
      "text/plain": [
       "fx\n",
       "──\n",
       "z "
      ]
     },
     "execution_count": 56,
     "metadata": {},
     "output_type": "execute_result"
    }
   ],
   "source": [
    "diff(F0, d).subs({a:1, b:0, c:0, d:0, e:0, f:1, g:0, h:0,i:0, j:0, k:1, l:0})"
   ]
  },
  {
   "cell_type": "code",
   "execution_count": 57,
   "metadata": {},
   "outputs": [
    {
     "data": {
      "text/latex": [
       "\\begin{equation}- \\frac{fx x^{2}}{z^{2}}\\end{equation}"
      ],
      "text/plain": [
       "     2 \n",
       "-fx⋅x  \n",
       "───────\n",
       "    2  \n",
       "   z   "
      ]
     },
     "execution_count": 57,
     "metadata": {},
     "output_type": "execute_result"
    }
   ],
   "source": [
    "diff(F0, i).subs({a:1, b:0, c:0, d:0, e:0, f:1, g:0, h:0,i:0, j:0, k:1, l:0})"
   ]
  },
  {
   "cell_type": "code",
   "execution_count": 58,
   "metadata": {},
   "outputs": [
    {
     "data": {
      "text/latex": [
       "\\begin{equation}- \\frac{fx x y}{z^{2}}\\end{equation}"
      ],
      "text/plain": [
       "-fx⋅x⋅y \n",
       "────────\n",
       "    2   \n",
       "   z    "
      ]
     },
     "execution_count": 58,
     "metadata": {},
     "output_type": "execute_result"
    }
   ],
   "source": [
    "diff(F0, j).subs({a:1, b:0, c:0, d:0, e:0, f:1, g:0, h:0,i:0, j:0, k:1, l:0})"
   ]
  },
  {
   "cell_type": "code",
   "execution_count": 59,
   "metadata": {},
   "outputs": [
    {
     "data": {
      "text/latex": [
       "\\begin{equation}- \\frac{fx x}{z}\\end{equation}"
      ],
      "text/plain": [
       "-fx⋅x \n",
       "──────\n",
       "  z   "
      ]
     },
     "execution_count": 59,
     "metadata": {},
     "output_type": "execute_result"
    }
   ],
   "source": [
    "diff(F0, k).subs({a:1, b:0, c:0, d:0, e:0, f:1, g:0, h:0,i:0, j:0, k:1, l:0})"
   ]
  },
  {
   "cell_type": "code",
   "execution_count": 60,
   "metadata": {},
   "outputs": [
    {
     "data": {
      "text/latex": [
       "\\begin{equation}- \\frac{fx x}{z^{2}}\\end{equation}"
      ],
      "text/plain": [
       "-fx⋅x \n",
       "──────\n",
       "   2  \n",
       "  z   "
      ]
     },
     "execution_count": 60,
     "metadata": {},
     "output_type": "execute_result"
    }
   ],
   "source": [
    "diff(F0, l).subs({a:1, b:0, c:0, d:0, e:0, f:1, g:0, h:0,i:0, j:0, k:1, l:0})"
   ]
  },
  {
   "cell_type": "code",
   "execution_count": 61,
   "metadata": {},
   "outputs": [
    {
     "data": {
      "text/latex": [
       "\\begin{equation}\\frac{fy x}{z}\\end{equation}"
      ],
      "text/plain": [
       "fy⋅x\n",
       "────\n",
       " z  "
      ]
     },
     "execution_count": 61,
     "metadata": {},
     "output_type": "execute_result"
    }
   ],
   "source": [
    "diff(F1, e).subs({a:1, b:0, c:0, d:0, e:0, f:1, g:0, h:0,i:0, j:0, k:1, l:0})"
   ]
  },
  {
   "cell_type": "code",
   "execution_count": 62,
   "metadata": {},
   "outputs": [
    {
     "data": {
      "text/latex": [
       "\\begin{equation}\\frac{fy y}{z}\\end{equation}"
      ],
      "text/plain": [
       "fy⋅y\n",
       "────\n",
       " z  "
      ]
     },
     "execution_count": 62,
     "metadata": {},
     "output_type": "execute_result"
    }
   ],
   "source": [
    "diff(F1, f).subs({a:1, b:0, c:0, d:0, e:0, f:1, g:0, h:0,i:0, j:0, k:1, l:0})"
   ]
  },
  {
   "cell_type": "code",
   "execution_count": 63,
   "metadata": {},
   "outputs": [
    {
     "data": {
      "text/latex": [
       "\\begin{equation}fy\\end{equation}"
      ],
      "text/plain": [
       "fy"
      ]
     },
     "execution_count": 63,
     "metadata": {},
     "output_type": "execute_result"
    }
   ],
   "source": [
    "diff(F1, g).subs({a:1, b:0, c:0, d:0, e:0, f:1, g:0, h:0,i:0, j:0, k:1, l:0})"
   ]
  },
  {
   "cell_type": "code",
   "execution_count": 64,
   "metadata": {},
   "outputs": [
    {
     "data": {
      "text/latex": [
       "\\begin{equation}\\frac{fy}{z}\\end{equation}"
      ],
      "text/plain": [
       "fy\n",
       "──\n",
       "z "
      ]
     },
     "execution_count": 64,
     "metadata": {},
     "output_type": "execute_result"
    }
   ],
   "source": [
    "diff(F1, h).subs({a:1, b:0, c:0, d:0, e:0, f:1, g:0, h:0,i:0, j:0, k:1, l:0})"
   ]
  },
  {
   "cell_type": "code",
   "execution_count": 65,
   "metadata": {},
   "outputs": [
    {
     "data": {
      "text/latex": [
       "\\begin{equation}- \\frac{fy x y}{z^{2}}\\end{equation}"
      ],
      "text/plain": [
       "-fy⋅x⋅y \n",
       "────────\n",
       "    2   \n",
       "   z    "
      ]
     },
     "execution_count": 65,
     "metadata": {},
     "output_type": "execute_result"
    }
   ],
   "source": [
    "diff(F1, i).subs({a:1, b:0, c:0, d:0, e:0, f:1, g:0, h:0,i:0, j:0, k:1, l:0})"
   ]
  },
  {
   "cell_type": "code",
   "execution_count": 66,
   "metadata": {},
   "outputs": [
    {
     "data": {
      "text/latex": [
       "\\begin{equation}- \\frac{fy y^{2}}{z^{2}}\\end{equation}"
      ],
      "text/plain": [
       "     2 \n",
       "-fy⋅y  \n",
       "───────\n",
       "    2  \n",
       "   z   "
      ]
     },
     "execution_count": 66,
     "metadata": {},
     "output_type": "execute_result"
    }
   ],
   "source": [
    "diff(F1, j).subs({a:1, b:0, c:0, d:0, e:0, f:1, g:0, h:0,i:0, j:0, k:1, l:0})"
   ]
  },
  {
   "cell_type": "code",
   "execution_count": 67,
   "metadata": {},
   "outputs": [
    {
     "data": {
      "text/latex": [
       "\\begin{equation}- \\frac{fy y}{z}\\end{equation}"
      ],
      "text/plain": [
       "-fy⋅y \n",
       "──────\n",
       "  z   "
      ]
     },
     "execution_count": 67,
     "metadata": {},
     "output_type": "execute_result"
    }
   ],
   "source": [
    "diff(F1, k).subs({a:1, b:0, c:0, d:0, e:0, f:1, g:0, h:0,i:0, j:0, k:1, l:0})"
   ]
  },
  {
   "cell_type": "code",
   "execution_count": 68,
   "metadata": {},
   "outputs": [
    {
     "data": {
      "text/latex": [
       "\\begin{equation}- \\frac{fy y}{z^{2}}\\end{equation}"
      ],
      "text/plain": [
       "-fy⋅y \n",
       "──────\n",
       "   2  \n",
       "  z   "
      ]
     },
     "execution_count": 68,
     "metadata": {},
     "output_type": "execute_result"
    }
   ],
   "source": [
    "diff(F1, l).subs({a:1, b:0, c:0, d:0, e:0, f:1, g:0, h:0,i:0, j:0, k:1, l:0})"
   ]
  }
 ],
 "metadata": {
  "interpreter": {
   "hash": "31f2aee4e71d21fbe5cf8b01ff0e069b9275f58929596ceb00d14d90e3e16cd6"
  },
  "kernelspec": {
   "display_name": "Python 3.6.9 64-bit",
   "name": "python3"
  },
  "language_info": {
   "codemirror_mode": {
    "name": "ipython",
    "version": 3
   },
   "file_extension": ".py",
   "mimetype": "text/x-python",
   "name": "python",
   "nbconvert_exporter": "python",
   "pygments_lexer": "ipython3",
   "version": "3.6.9"
  },
  "orig_nbformat": 4
 },
 "nbformat": 4,
 "nbformat_minor": 2
}